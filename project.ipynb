{
  "nbformat": 4,
  "nbformat_minor": 0,
  "metadata": {
    "colab": {
      "name": "Untitled7.ipynb",
      "provenance": [],
      "authorship_tag": "ABX9TyN/9WRGnBekyR2HVdOhRO+z",
      "include_colab_link": true
    },
    "kernelspec": {
      "name": "python3",
      "display_name": "Python 3"
    },
    "language_info": {
      "name": "python"
    }
  },
  "cells": [
    {
      "cell_type": "markdown",
      "metadata": {
        "id": "view-in-github",
        "colab_type": "text"
      },
      "source": [
        "<a href=\"https://colab.research.google.com/github/Haribooshan/Haribooshan/blob/main/project.ipynb\" target=\"_parent\"><img src=\"https://colab.research.google.com/assets/colab-badge.svg\" alt=\"Open In Colab\"/></a>"
      ]
    },
    {
      "cell_type": "code",
      "execution_count": 1,
      "metadata": {
        "id": "9ZhZL9hHOg9p"
      },
      "outputs": [],
      "source": [
        "import torch\n",
        "import torch.nn as nn\n",
        "import torch.nn.functional as F\n",
        "\n",
        "#Residual block with two convolutions :\n",
        "class res_block(nn.Module):\n",
        "    \n",
        "    def __init__(self, inp_size, inter_size, out_size):\n",
        "        super().__init__()\n",
        "        self.conv1 = nn.Conv2d(inp_size, inter_size, 3, padding=1)\n",
        "        self.conv2 = nn.Conv2d(inter_size, out_size, 3, padding=1)\n",
        "        self.batchnorm1 = nn.BatchNorm2d(inter_size)\n",
        "        self.batchnorm2 = nn.BatchNorm2d(out_size)\n",
        "\n",
        "    def conv_block(self, x):\n",
        "        x = F.relu(self.batchnorm1(self.conv1(x)))\n",
        "        x = F.relu(self.batchnorm2(self.conv2(x)))\n",
        "        return x\n",
        "\n",
        "    # skipping connection        \n",
        "    def forward(self, x): return x + self.conv_block(x) \n",
        "\n",
        "class res_cnn_model(nn.Module):\n",
        "\n",
        "    def __init__(self, in_channels, res_block, outputs):\n",
        "        super().__init__()\n",
        "        self.layer1 = nn.Sequential( nn.Conv2d(in_channels, 128, kernel_size=7, stride=2, padding=3), nn.MaxPool2d(kernel_size=3, stride=2, padding=1),\n",
        "            nn.BatchNorm2d(128), nn.ReLU() )\n",
        "        self.layer2 = nn.Sequential( res_block(128,128,128) ,  res_block(128,128,128) )\n",
        "\n",
        "    def forward(self, input):\n",
        "        input = self.layer1(input)\n",
        "        input= self.layer2(input)\n",
        "        input = torch.flatten(input)\n",
        "        return input"
      ]
    }
  ]
}